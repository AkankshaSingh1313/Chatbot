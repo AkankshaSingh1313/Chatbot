{
 "cells": [
  {
   "cell_type": "code",
   "execution_count": 15,
   "metadata": {},
   "outputs": [
    {
     "name": "stdout",
     "output_type": "stream",
     "text": [
      "82edb045-ddd6-7c82-ef6a-161ca23e57fd\n"
     ]
    }
   ],
   "source": [
    "import re\n",
    "\n",
    "def extract_session_id(session_str: str):\n",
    "\n",
    "    match = re.search(r'/sessions/(.*?)/contexts/', session_str)\n",
    "    if match:\n",
    "        extracted_string = match.group(1)\n",
    "        return extracted_string\n",
    "    \n",
    "    return \"\"\n",
    "\n",
    "\n",
    "print(extract_session_id(\"projects/mira-chatbot-for-food-del-ejcd/agent/sessions/82edb045-ddd6-7c82-ef6a-161ca23e57fd/contexts/ongoing-order\"))"
   ]
  },
  {
   "cell_type": "code",
   "execution_count": 16,
   "metadata": {},
   "outputs": [
    {
     "data": {
      "text/plain": [
       "'2 samosa, 8 lasagna'"
      ]
     },
     "execution_count": 16,
     "metadata": {},
     "output_type": "execute_result"
    }
   ],
   "source": [
    "def get_str_from_food_dict(food_dict: dict):\n",
    "    '''\n",
    "    This function prints a string version of the food dictionary, iterating through each item\n",
    "    Returns: (str) food items\n",
    "    '''\n",
    "    return \", \".join([f\"{int(value)} {key}\" for key, value in food_dict.items()])\n",
    "\n",
    "\n",
    "get_str_from_food_dict({'samosa': 2, 'lasagna': 8})"
   ]
  },
  {
   "cell_type": "code",
   "execution_count": 18,
   "metadata": {},
   "outputs": [
    {
     "data": {
      "text/plain": [
       "42"
      ]
     },
     "execution_count": 18,
     "metadata": {},
     "output_type": "execute_result"
    }
   ],
   "source": [
    "import mysql.connector\n",
    "global cnx\n",
    "\n",
    "cnx = mysql.connector.connect(\n",
    "    host=\"localhost\",\n",
    "    user=\"root\",\n",
    "    password=\"root\",\n",
    "    database=\"pandeyji_eatery\"\n",
    ")\n",
    "\n",
    "\n",
    "# Function to get the next available order_id\n",
    "def get_next_order_id():\n",
    "    cursor = cnx.cursor()\n",
    "\n",
    "    # Executing the SQL query to get the next available order_id\n",
    "    query = \"SELECT MAX(order_id) FROM orders\"\n",
    "    cursor.execute(query)\n",
    "\n",
    "    # Fetching the result\n",
    "    result = cursor.fetchone()\n",
    "\n",
    "    # Closing the cursor\n",
    "    cursor.close()\n",
    "\n",
    "    # Returning the next available order_id\n",
    "    if result is None:\n",
    "        return 1\n",
    "    else:\n",
    "        return result[0] + 1\n",
    "\n",
    "get_next_order_id()"
   ]
  }
 ],
 "metadata": {
  "kernelspec": {
   "display_name": "NLP",
   "language": "python",
   "name": "python3"
  },
  "language_info": {
   "codemirror_mode": {
    "name": "ipython",
    "version": 3
   },
   "file_extension": ".py",
   "mimetype": "text/x-python",
   "name": "python",
   "nbconvert_exporter": "python",
   "pygments_lexer": "ipython3",
   "version": "3.9.12"
  },
  "orig_nbformat": 4
 },
 "nbformat": 4,
 "nbformat_minor": 2
}
